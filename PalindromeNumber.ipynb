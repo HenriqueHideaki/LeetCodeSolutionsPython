{
  "nbformat": 4,
  "nbformat_minor": 0,
  "metadata": {
    "colab": {
      "provenance": [],
      "collapsed_sections": [],
      "authorship_tag": "ABX9TyPUTcVUsHbp8jMy2mJNwtMZ",
      "include_colab_link": true
    },
    "kernelspec": {
      "name": "python3",
      "display_name": "Python 3"
    },
    "language_info": {
      "name": "python"
    }
  },
  "cells": [
    {
      "cell_type": "markdown",
      "metadata": {
        "id": "view-in-github",
        "colab_type": "text"
      },
      "source": [
        "<a href=\"https://colab.research.google.com/github/HenriqueHideaki/LeetCodeSolutionsPython/blob/master/PalindromeNumber.ipynb\" target=\"_parent\"><img src=\"https://colab.research.google.com/assets/colab-badge.svg\" alt=\"Open In Colab\"/></a>"
      ]
    },
    {
      "cell_type": "code",
      "execution_count": 78,
      "metadata": {
        "colab": {
          "base_uri": "https://localhost:8080/"
        },
        "id": "vXu1QWdYZmcM",
        "outputId": "b05c7c37-d63c-4394-dd41-8d8fa6419ac6"
      },
      "outputs": [
        {
          "output_type": "stream",
          "name": "stdout",
          "text": [
            "-39\n",
            "93-\n",
            "False\n"
          ]
        }
      ],
      "source": [
        "from random import randint\n",
        "\n",
        "num = randint(-100,120)\n",
        "num = str(num)\n",
        "num_reverse = num[::-1]\n",
        "print(num)\n",
        "print(num_reverse)\n",
        "if(num == num_reverse):\n",
        "  print('True')\n",
        "else:\n",
        "  print('False')\n"
      ]
    },
    {
      "cell_type": "code",
      "source": [
        "class Solution:\n",
        "    def isPalindrome(self, x: int) -> bool:\n",
        "        x = str(x)\n",
        "        x_reverse = x[::-1]\n",
        "        if(x == x_reverse):\n",
        "            return True\n",
        "        else:\n",
        "            return False"
      ],
      "metadata": {
        "id": "G49Qz0WyhW8B"
      },
      "execution_count": null,
      "outputs": []
    },
    {
      "cell_type": "markdown",
      "source": [],
      "metadata": {
        "id": "2bWxqRb8hWdn"
      }
    }
  ]
}