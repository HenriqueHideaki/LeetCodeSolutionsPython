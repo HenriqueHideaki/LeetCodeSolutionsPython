{
  "nbformat": 4,
  "nbformat_minor": 0,
  "metadata": {
    "colab": {
      "provenance": [],
      "collapsed_sections": [],
      "authorship_tag": "ABX9TyOfDh/jlxYWESquV/7o6mT9",
      "include_colab_link": true
    },
    "kernelspec": {
      "name": "python3",
      "display_name": "Python 3"
    },
    "language_info": {
      "name": "python"
    }
  },
  "cells": [
    {
      "cell_type": "markdown",
      "metadata": {
        "id": "view-in-github",
        "colab_type": "text"
      },
      "source": [
        "<a href=\"https://colab.research.google.com/github/HenriqueHideaki/LeetCodeSolutionsPython/blob/master/TwoSum.ipynb\" target=\"_parent\"><img src=\"https://colab.research.google.com/assets/colab-badge.svg\" alt=\"Open In Colab\"/></a>"
      ]
    },
    {
      "cell_type": "markdown",
      "source": [
        "#1. Two Sum\n",
        "[TwoSumLink](https://leetcode.com/problems/two-sum/)\n",
        "Given an array of integers nums and an integer target, return indices of the two numbers such that they add up to target.\n",
        "\n",
        "You may assume that each input would have exactly one solution, and you may not use the same element twice.\n",
        "\n",
        "You can return the answer in any order.\n",
        "\n"
      ],
      "metadata": {
        "id": "M9hF8VoRMZx-"
      }
    },
    {
      "cell_type": "code",
      "execution_count": null,
      "metadata": {
        "colab": {
          "base_uri": "https://localhost:8080/"
        },
        "id": "xhNzR7xCMPLP",
        "outputId": "a45a8952-c3e7-40f3-8b3e-d6e823afb260"
      },
      "outputs": [
        {
          "output_type": "stream",
          "name": "stdout",
          "text": [
            "[11, 10, 1, 17, 8, 0, 15, 16, 3, 7]\n",
            "OUTPUT: [2,9]\n"
          ]
        }
      ],
      "source": [
        "import random\n",
        "\n",
        "num = list()\n",
        "num = random.sample(range(0,20),10)\n",
        "#num = [3,2,4]\n",
        "target = 8\n",
        "achou = False\n",
        "print(num)\n",
        "for i in range(len(num)):\n",
        "  for j in range(1,len(num)):\n",
        "    #print(f'Vetor de j {num[j]}')\n",
        "    if(num[i] + num[j] == target and i!=j):\n",
        "      print(f'OUTPUT: [{i},{j}]')\n",
        "      achou = True\n",
        "      break\n",
        "  if achou == True:\n",
        "    break\n",
        "    \n",
        "  "
      ]
    },
    {
      "cell_type": "code",
      "source": [
        "class Solution:\n",
        "    def twoSum(self, nums: List[int], target: int) -> List[int]:\n",
        "        achou = False\n",
        "        for i in range(len(nums)):\n",
        "            for j in range(1,len(nums)):\n",
        "                if(nums[i] + nums[j] == target and i != j):\n",
        "                    return [i,j]\n",
        "                    achou = True\n",
        "                    break\n",
        "            if achou == True:\n",
        "                break"
      ],
      "metadata": {
        "id": "0ZfDFhF5XY10"
      },
      "execution_count": null,
      "outputs": []
    }
  ]
}